{
 "cells": [
  {
   "cell_type": "markdown",
   "id": "eabc9486-851d-47d9-b323-fbc5ea337e6b",
   "metadata": {},
   "source": [
    "Virtual Acoustics and Immersive Audio Workshop - CCRMA Stanford University  \n",
    "30.07.25 - Orchisama Das, Gloria Dal Santo\n",
    "  \n",
    "### L08: Generating Binaural Room Impulse Responses from ambisonics RIRs and HRIRs\n",
    "\n",
    "In this assignment we will \n",
    "- Get spherical harmonic transform of HRIRs.\n",
    "- Create BRIRs from SH-HRIRs and B-format ambisonics RIRs you created in the last assignment.\n",
    "- Listen to auralization with saved BRIRs binaurally using the 3DTI Spatialiser plugin."
   ]
  },
  {
   "cell_type": "code",
   "execution_count": 1,
   "id": "df3eafc1-9052-4a42-9c6b-3d0d33d42efc",
   "metadata": {},
   "outputs": [],
   "source": [
    "import numpy as np\n",
    "import sofar\n",
    "import soundfile as sf\n",
    "from pathlib import Path\n",
    "from loguru import logger\n",
    "from spatial_audio.sofa_parser import HRIRReader, HRIRWriter, SRIRWriter\n",
    "from spatial_audio.hrtf import HRIRSet\n",
    "from spatial_audio.spatial import convert_srir_to_brir\n",
    "from utils import ms_to_samps\n",
    "import matplotlib.pyplot as plt"
   ]
  },
  {
   "cell_type": "markdown",
   "id": "59de83db-234f-490b-9ad0-701629c5926e",
   "metadata": {},
   "source": [
    "### Part 1\n",
    "\n",
    "Convert HRIRs in the CIPIC dataset to the SH-domain for order $= 1$. Do this by completing the function `get_spherical_harmonic_representation(ambi_order: int)` in the dataclass `HRIRSet` in `spatial_audio.hrtf.py`\n",
    "\n",
    "Recall that to convert HRIRs into SHD for order $N$, the formula is,\n",
    "\\begin{equation}\n",
    "\\begin{aligned}\n",
    "\\mathbf{g}_{\\text{sh}_{L,R}}^{(n)}(t) = \\sum_{k=1}^K w_k Y_n(\\theta_k, \\phi_k) g_{L,R}(t; \\theta_k, \\phi_k), \\\\\n",
    "\\mathbf{G}_{\\text{sh}_{L,R}}^{(n)}(f) = \\sum_{k=1}^K w_k Y_n(\\theta_k, \\phi_k) G_{L,R}(f; \\theta_k, \\phi_k).\n",
    "\\end{aligned}\n",
    "\\end{equation}\n",
    "where  $g_{L,R}(t; \\theta_k, \\phi_k)$ are the HRIRs corresponding to the direction $(\\theta_k, \\phi_k)$ ($G_{L,R}(f; \\theta_k, \\phi_k)$ are the corresponding HRTFs), $\\mathbf{g}_{\\text{sh}_{L,R}}(t) \\in \\mathbb{R}^{(N+1)^2 \\times T}$ are the HRIRs in the spherical harmonics domain ($\\mathbf{G}_{\\text{sh}_{L,R}}^{(n)}(f)$ are the corresponding HRTFs), $w_k$ are the quadrature weights, which are used to account for the fact that measured HRIRs are not uniformly distributed over the sphere. In matrix form, this is written as,\n",
    "\\begin{equation}\n",
    "\\begin{aligned}\n",
    "\\mathbf{G}_{\\text{sh}_{L,R}} &= (\\mathbf{W} \\mathbf{Y})^\\dagger \\mathbf{W} \\mathbf{G}_{L,R}, \\quad \\mathbf{W} = \\text{diag}(w_1, \\ldots, w_K), \\\\\n",
    "\\mathbf{g}_{\\text{sh}_{L,R}} &= \\text{IFFT}(\\mathbf{G}_{\\text{sh}_{L,R}}), \\\\\n",
    "\\mathbf{Y} \\ (\\text{ACN ordering}) & =\\left[\\begin{array}{cccc}\n",
    "Y_{0,0}\\left(\\theta_1, \\phi_1\\right) & Y_{1,-1}\\left(\\theta_1, \\phi_1\\right) & Y_{1,0}\\left(\\theta_1, \\phi_1\\right) & Y_{1,1}\\left(\\theta_1, \\phi_1\\right) \\\\\n",
    "Y_{0,0}\\left(\\theta_2, \\phi_2\\right) & Y_{1,-1}\\left(\\theta_2, \\phi_2\\right) & Y_{1,0}\\left(\\theta_2, \\phi_2\\right) & Y_{1,1}\\left(\\theta_2, \\phi_2\\right) \\\\\n",
    "\\vdots & \\vdots & \\vdots & \\vdots \\\\\n",
    "Y_{0,0}\\left(\\theta_K, \\phi_K\\right) & Y_{1,-1}\\left(\\theta_K, \\phi_K\\right) & Y_{1,0}\\left(\\theta_K, \\phi_K\\right) & Y_{1,1}\\left(\\theta_K, \\phi_K\\right)\n",
    "\\end{array}\\right].\n",
    "\\end{aligned}\n",
    "\\end{equation}\n",
    "We recommend using `spaudiopy.grids.calculate_grid_weights` to get the quadrature weights and `spaudiopy.sph.sh_matrix` to get the SH coefficient matrix."
   ]
  },
  {
   "cell_type": "code",
   "execution_count": 2,
   "id": "13ac2008-f2c3-4de7-8428-f2fbbeaf42da",
   "metadata": {},
   "outputs": [
    {
     "name": "stderr",
     "output_type": "stream",
     "text": [
      "\u001b[32m2025-07-30 19:04:15.683\u001b[0m | \u001b[1mINFO    \u001b[0m | \u001b[36mspatial_audio.sofa_parser\u001b[0m:\u001b[36m__init__\u001b[0m:\u001b[36m41\u001b[0m - \u001b[1mNone\u001b[0m\n",
      "\u001b[32m2025-07-30 19:04:15.683\u001b[0m | \u001b[1mINFO    \u001b[0m | \u001b[36mspatial_audio.sofa_parser\u001b[0m:\u001b[36m__init__\u001b[0m:\u001b[36m42\u001b[0m - \u001b[1mShape of the IRs is (1250, 2, 200)\u001b[0m\n"
     ]
    },
    {
     "name": "stdout",
     "output_type": "stream",
     "text": [
      "R = 2 receiver (set by ReceiverPosition of dimension RCI, RCM)\n",
      "E = 1 emitter (set by EmitterPosition of dimension ECI, ECM)\n",
      "M = 1250 measurements (set by Data_IR of dimension MRN)\n",
      "N = 200 samples (set by Data_IR of dimension MRN)\n",
      "C = 3 coordinate dimensions, fixed\n",
      "I = 1 single dimension, fixed\n",
      "S = 0 maximum string length\n",
      "\n"
     ]
    }
   ],
   "source": [
    "# Create HRIRReader object\n",
    "sofa_path = Path('../data/Week 2/hrtf/CIPIC_subject_119_fixed.sofa').resolve()\n",
    "hrir_reader = HRIRReader(sofa_path)\n",
    "\n",
    "# Create an HRIRSet from the read file\n",
    "hrir_data = HRIRSet(hrir_reader.fs, hrir_reader.num_meas, hrir_reader.ir_length, hrir_reader.ir_data,\n",
    "                    hrir_reader.listener_view, hrir_reader.listener_view_type)\n",
    "\n",
    "### WRITE YOUR CODE HERE ###\n",
    "# Get the HRIRs in the spherical harmonic domain, plot for sanity check\n",
    "sh_hrirs = hrir_data.get_spherical_harmonic_representation(ambi_order=1)"
   ]
  },
  {
   "cell_type": "markdown",
   "id": "94adc816-0d1f-491a-b66c-107f711edb63",
   "metadata": {},
   "source": [
    "### Part 2\n",
    "\n",
    "- Complete `convert_srir_to_brir` in `spatial_audio.spatial.py`.\n",
    "  * Read the SRIRs you have saved in the last assignment using the `sofar` library along with their positions.\n",
    "  * Use the SH-encoded HRIRs and the SRIRs you have read to obtain BRIRs for head orientations spanning an azimuth of $-180^\\circ$ to $+180^\\circ$ and elevation of $-90^\\circ$ to $+90^\\circ$ in $15^\\circ$ steps.\n",
    "\n",
    "The BRIRs, $b_{L,R}(\\mathbf{x}, \\Omega_0, t)$ at positions $\\mathbf{x}$ and orientation $\\Omega_0 = [\\theta_0, \\phi_0]$ are given by,\n",
    "\\begin{equation}\n",
    "\\begin{aligned}\n",
    "\\mathbf{H}_{\\text{sh}_{\\text{rot}}}(\\mathbf{x}, f) &=  \\mathbf{D}(-\\Omega_0) \\mathbf{H}_\\textrm{sh}(\\mathbf{x}, f), \\\\\n",
    "B_{\\text{L, R}}(\\mathbf{x}, \\Omega_0, f) &=\\left(\\sum_{n=0}^{(N+1)^2-1} \\mathbf{G}^{(n)*}_{\\text{sh}_{L,R}}(f)  \\mathbf{H}^{(n)}_{\\text{sh}_{\\text{rot}}}(\\mathbf{x}, f)\\right), \\\\\n",
    "b_{\\text{L, R}}(\\mathbf{x}, \\Omega_0, t) &= \\text{IFFT}(B_{\\text{L, R}}(\\mathbf{x}, \\Omega_0, f)).\n",
    "\\end{aligned}\n",
    "\\end{equation}\n",
    "Here, $\\mathbf{G}_{\\text{sh}_{L,R}}(f) \\in \\mathbb{R}^{(N+1)^2 \\times F}$ are the conjugated HRTFs in the spherical harmonics domain, $\\mathbf{H}_\\text{sh}(\\mathbf{x}, f) \\in \\mathbb{R}^{(N+1)^2 \\times F}$ are the SH-encoded (B-format) frequency-domain SRIRs at position $\\mathbf{x}$ and $\\mathbf{H}_{\\text{sh}_\\text{rot}}(\\mathbf{x}, f)$ are frequency-domain SRIRs rotated in the direction $-\\Omega_0$. $\\mathbf{H}_{\\text{sh}_\\text{rot}}(\\mathbf{x}, f)$ is obtained from the SH-encoded frequency-domain SRIRs, $\\mathbf{H}_\\text{sh}(\\mathbf{x}, f)$ using a rotation matrix, $\\mathbf{D}(-\\Omega_0)$. You can use `spaudiopy`'s `sph.sh_rotation_matrix` for $\\mathbf{D}(\\Omega_0)$. Notice we replaced the convolution operation with point-wise multiplication in the SH domain."
   ]
  },
  {
   "cell_type": "code",
   "execution_count": 3,
   "id": "0eb38ff1-c0bc-442f-a08b-f09f95fa7f1d",
   "metadata": {},
   "outputs": [],
   "source": [
    "# read SRIRs from SOFA file\n",
    "srir_path = Path('../data/Week 2/shoe-box-synth-comp/sofa_files/racquetball_src=I_srirs.sofa').resolve()\n",
    "sofa_obj = sofar.read_sofa(srir_path, verify=True, verbose=True)\n",
    "\n",
    "# read sample rate\n",
    "fs = sofa_obj.Data_SamplingRate\n",
    "# we are only interested in a single receiver position\n",
    "num_rec = 1\n",
    "# read SRIR\n",
    "srirs = sofa_obj.Data_IR[:num_rec, ...]\n",
    "# read listener position\n",
    "listener_position = sofa_obj.ListenerPosition[:num_rec]\n",
    "# read source position\n",
    "source_position = sofa_obj.SourcePosition[1]\n",
    "\n",
    "# Create head orientation array\n",
    "grid_res = 15\n",
    "az = np.arange(-180, 180, grid_res)\n",
    "el = np.arange(-90, 90, grid_res)\n",
    "az_grid, el_grid = np.meshgrid(az, el)\n",
    "head_orientation = np.stack((az_grid.ravel(), el_grid.ravel(), np.ones_like(az_grid.ravel()))).T\n",
    "num_orientation = head_orientation.shape[0]"
   ]
  },
  {
   "cell_type": "code",
   "execution_count": 4,
   "id": "5e9ddce4-b0ae-4ee5-a1bd-1c4af50de34e",
   "metadata": {},
   "outputs": [
    {
     "name": "stderr",
     "output_type": "stream",
     "text": [
      "\u001b[32m2025-07-30 19:04:15.819\u001b[0m | \u001b[1mINFO    \u001b[0m | \u001b[36mspatial_audio.spatial\u001b[0m:\u001b[36mconvert_srir_to_brir\u001b[0m:\u001b[36m91\u001b[0m - \u001b[1mDone calculating FFTs\u001b[0m\n",
      "100%|██████████████████████████████████████████████████| 1/1 [00:03<00:00,  3.97s/it]\n"
     ]
    }
   ],
   "source": [
    "### WRITE YOUR CODE HERE ####\n",
    "\n",
    "# Get BRIRs from SRIRs and SH-HRIRs by calling convert_srir_to_brir, \n",
    "# Save them in a variable called brirs\n",
    "brirs = convert_srir_to_brir(srirs, sh_hrirs, head_orientation[:, :2])"
   ]
  },
  {
   "cell_type": "markdown",
   "id": "cd806a07-2f4d-4665-94dd-e4d98231c44b",
   "metadata": {},
   "source": [
    "### Part 3\n",
    "- Save the obtained BRIRs for a SINGLE source and receiver position in SOFA format using the `HRIRWriter`class.\n",
    "- The different head orientations will be saved as source positions. For example if your source positions is C and receiver position is A, then save the BRIRs as `racquetball_src=C_rec=A.sofa`."
   ]
  },
  {
   "cell_type": "code",
   "execution_count": 5,
   "id": "d41159e2-1d9e-4772-ac08-ed976ecc0506",
   "metadata": {},
   "outputs": [],
   "source": [
    "# number of measurements\n",
    "M = num_rec * num_orientation\n",
    "\n",
    "# number of receivers\n",
    "R = 2\n",
    "\n",
    "# trim BRIRs to 4s\n",
    "trim_len_samps = ms_to_samps(4000, fs)\n",
    "brirs = brirs[..., :trim_len_samps, :]\n",
    "brirs /= np.max(np.abs(brirs))\n",
    "\n",
    "# BRIR length in time\n",
    "N = trim_len_samps\n",
    "\n",
    "# reshape BRIRs to be of shape (number_of_measurements, number_of_receivers, BRIR_length_in_time)\n",
    "brirs_flat = brirs.reshape(M, N, R)\n",
    "brirs_flat = np.transpose(brirs_flat, (0, 2, 1))  # → shape (M, R, N)\n",
    "\n",
    "# create listener positions, listener views and source positions\n",
    "# all are of shape  (num_rec * num_ori, 3)\n",
    "listener_positions_all = np.repeat(listener_position, num_orientation, axis=0)\n",
    "listener_views_all = np.tile(head_orientation, (num_rec, 1))\n",
    "source_positions_all = np.repeat(source_position[np.newaxis, :], M, axis=0)\n",
    "\n",
    "# Path to save\n",
    "brir_sofa_path = Path('../data/Week 2/shoe-box-synth-comp/sofa_files/racquetball_src=I_rec=A_brirs.sofa').resolve()\n",
    "\n",
    "### WRITE YOUR CODE HERE ###\n",
    "\n",
    "# create HRIRSet object for BRIRs\n",
    "brir_set = HRIRSet(fs, M, N, brirs_flat, listener_views_all, 'spherical')\n",
    "\n",
    "# create sofa writer object with HRIRSet and HRIRWriter, set_list_view_as_source_pos = True\n",
    "sofa_writer = HRIRWriter(brir_set, set_list_view_as_source_pos=True)\n",
    "\n",
    "# call sofa_writer.write_to_file\n",
    "sofa_writer.write_to_file(brir_sofa_path)"
   ]
  },
  {
   "cell_type": "markdown",
   "id": "4de10644-06ae-4a4c-a08f-f2e2735b7aa1",
   "metadata": {},
   "source": [
    "#### Sanity check to see if SOFA saving was successful"
   ]
  },
  {
   "cell_type": "code",
   "execution_count": 6,
   "id": "22ad05df-8280-4c39-97b5-45b8606e2cbb",
   "metadata": {},
   "outputs": [
    {
     "name": "stderr",
     "output_type": "stream",
     "text": [
      "\u001b[32m2025-07-30 19:04:31.094\u001b[0m | \u001b[1mINFO    \u001b[0m | \u001b[36mspatial_audio.sofa_parser\u001b[0m:\u001b[36m__init__\u001b[0m:\u001b[36m41\u001b[0m - \u001b[1mNone\u001b[0m\n",
      "\u001b[32m2025-07-30 19:04:31.095\u001b[0m | \u001b[1mINFO    \u001b[0m | \u001b[36mspatial_audio.sofa_parser\u001b[0m:\u001b[36m__init__\u001b[0m:\u001b[36m42\u001b[0m - \u001b[1mShape of the IRs is (288, 2, 192000)\u001b[0m\n"
     ]
    },
    {
     "name": "stdout",
     "output_type": "stream",
     "text": [
      "R = 2 receiver (set by ReceiverPosition of dimension RCI, RCM)\n",
      "E = 1 emitter (set by EmitterPosition of dimension ECI, ECM)\n",
      "M = 288 measurements (set by Data_IR of dimension MRN)\n",
      "N = 192000 samples (set by Data_IR of dimension MRN)\n",
      "C = 3 coordinate dimensions, fixed\n",
      "I = 1 single dimension, fixed\n",
      "S = 0 maximum string length\n",
      "\n"
     ]
    },
    {
     "data": {
      "text/plain": [
       "[<matplotlib.lines.Line2D at 0x130c62d70>,\n",
       " <matplotlib.lines.Line2D at 0x130c62b00>]"
      ]
     },
     "execution_count": 6,
     "metadata": {},
     "output_type": "execute_result"
    },
    {
     "data": {
      "image/png": "[encoded data removed]",
      "text/plain": [
       "<Figure size 640x480 with 1 Axes>"
      ]
     },
     "metadata": {},
     "output_type": "display_data"
    }
   ],
   "source": [
    "sofa_reader = HRIRReader(brir_sofa_path)\n",
    "\n",
    "# plot a few BRIRs\n",
    "ir_data = sofa_reader.get_ir_corresponding_to_listener_view(np.asarray([[-90, 15, 1.0]])).squeeze()\n",
    "plt.plot(ir_data.T)"
   ]
  }
 ],
 "metadata": {
  "kernelspec": {
   "display_name": "Python 3 (ipykernel)",
   "language": "python",
   "name": "python3"
  },
  "language_info": {
   "codemirror_mode": {
    "name": "ipython",
    "version": 3
   },
   "file_extension": ".py",
   "mimetype": "text/x-python",
   "name": "python",
   "nbconvert_exporter": "python",
   "pygments_lexer": "ipython3",
   "version": "3.10.18"
  }
 },
 "nbformat": 4,
 "nbformat_minor": 5
}
