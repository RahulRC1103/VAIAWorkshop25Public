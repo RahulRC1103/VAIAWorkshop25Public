{
 "cells": [
  {
   "cell_type": "markdown",
   "id": "0",
   "metadata": {},
   "source": [
    "Virtual Acoustics and Immersive Audio Workshop - CCRMA Stanford University  \n",
    "28.07.25 - Orchisama Das, Gloria Dal Santo\n",
    "  \n",
    "### L06: Binaural rendering\n",
    "\n",
    "In this assignment we will \n",
    "- Analyze a given HRIR dataset in SOFA format\n",
    "- Interpolate the HRIRs to a denser grid and save it in SOFA format\n",
    "- Listen and compare both datasets in Reaper with SPARTA's binauralizer plugin with head tracking."
   ]
  },
  {
   "cell_type": "code",
   "execution_count": null,
   "id": "1",
   "metadata": {},
   "outputs": [],
   "source": [
    "import numpy as np\n",
    "from pathlib import Path\n",
    "from loguru import logger\n",
    "import matplotlib.pyplot as plt\n",
    "from spatial_audio.sofa_parser import HRIRReader, HRIRWriter\n",
    "from spatial_audio.hrtf import HRIRInterpolator, HRIRSet\n",
    "from spatial_audio.plot import plot_points_on_sphere\n",
    "from utils import unpack_coordinates, cart2sph"
   ]
  },
  {
   "cell_type": "markdown",
   "id": "2",
   "metadata": {},
   "source": [
    "## Part 1\n",
    "- Read the HRTF dataset with `HRIRReader`\n",
    "- Plot the azimuth and elevation angles at which the HRIRs were measured on a spherical grid with the `spatial_audio.plot.plot_points_on_sphere()` function.\n",
    "- Note the grid spacing between azimuth angles ($\\theta_\\text{grid}$) and elevation angles ($\\phi_\\text{grid}$). Verify that the grid is equiangular (same spacing between all azimuth and elevation angles)."
   ]
  },
  {
   "cell_type": "code",
   "execution_count": null,
   "id": "3",
   "metadata": {},
   "outputs": [],
   "source": [
    "# Path to HRIR dataset\n",
    "sofa_path = Path('../data/Week 2/hrtf/CIPIC_subject_119_equiangular_grid.sofa').resolve()\n",
    "\n",
    "#### WRITE YOUR CODE HERE ####\n",
    "\n",
    "# Create HRIRReader object\n",
    "hrir_reader = HRIRReader(sofa_path)\n",
    "\n",
    "# Read azimuth and elevation angles from the dataset\n",
    "az = hrir_reader.listener_view[:, 0]\n",
    "el = hrir_reader.listener_view[:, 1]\n",
    "\n",
    "# Plot the azimuth and elevation angles on a sphere by calling plot_points_on_sphere\n",
    "plot_points_on_sphere(az, el)"
   ]
  },
  {
   "cell_type": "markdown",
   "id": "4",
   "metadata": {},
   "source": [
    "### Part 2\n",
    "\n",
    "See `src/spatial_audio/hrtf.py`. Create an `HRIRSet` dataclass from the dataset you have just read."
   ]
  },
  {
   "cell_type": "code",
   "execution_count": null,
   "id": "5",
   "metadata": {},
   "outputs": [],
   "source": [
    "hrir_data = HRIRSet(hrir_reader.fs, hrir_reader.num_meas, hrir_reader.ir_length, hrir_reader.ir_data,\n",
    "                    hrir_reader.listener_view, hrir_reader.listener_view_type, source_view=hrir_reader.get_source_view(\"spherical\"))"
   ]
  },
  {
   "cell_type": "markdown",
   "id": "6",
   "metadata": {},
   "source": [
    "### Part 3\n",
    "\n",
    "- Complete the function `bilinear_interpolation(new_az_res: float, new_el_res: float)` in the `HRIRInterpolator` class to interpolate the HRIRs on the new grid.\n",
    "- The new grid should have a spacing of $2^\\circ$ between azimuth angles and $5^\\circ$ between elevation angles. This should return an object of type `HRIRSet`. \n",
    "\n",
    "Recall the formula for the bilinear interpolation of HRIRs,\n",
    "\n",
    "\\begin{aligned}\n",
    "\\hat{h}(k) &= \\left(1-c_\\theta\\right)\\left(1-c_\\phi\\right) h_a(k)+c_\\theta\\left(1-c_\\phi\\right) h_b(k)+ \\\\\n",
    "&+c_\\theta c_\\phi h_c(k)+\\left(1-c_\\theta\\right) c_\\phi h_d(k), \\\\\n",
    "c_\\theta &= \\frac{\\theta \\ \\text{mod} \\ \\theta_\\text{grid}}{\\theta_\\text{grid}}, \\quad c_\\phi = \\frac{\\phi \\ \\text{mod} \\ \\phi_\\text{grid}}{\\phi_\\text{grid}}\n",
    "\\end{aligned}\n",
    "where $h_a, h_b, h_c, h_d$ are the adjacent HRIRs to a new angle-pair $(\\theta, \\phi)$. Hint: the grid of HRIRs provided has uniform spacing between all azimuth and elevation angles."
   ]
  },
  {
   "cell_type": "code",
   "execution_count": null,
   "id": "7",
   "metadata": {},
   "outputs": [],
   "source": [
    "#### WRITE YOUR CODE HERE ####\n",
    "\n",
    "# Create HRIRInterpolator object\n",
    "hrir_interpolator = HRIRInterpolator(hrir_data)\n",
    "\n",
    "# Call bilinear_interpolation function with azimuth and elevation grid spacing angles\n",
    "new_az_spacing = 2\n",
    "new_el_spacing = 5\n",
    "new_hrir_set = hrir_interpolator.bilinear_interpolation(new_az_spacing, new_el_spacing)"
   ]
  },
  {
   "cell_type": "markdown",
   "id": "8",
   "metadata": {},
   "source": [
    "### Part 5\n",
    "\n",
    "Save the new densely sampled dataset to SOFA format using `HRIRWriter`."
   ]
  },
  {
   "cell_type": "code",
   "execution_count": null,
   "id": "9",
   "metadata": {},
   "outputs": [],
   "source": [
    "new_sofa_path =  Path('../data/Week 2/hrtf/densely_sampled_CIPIC_subject_119.sofa').resolve()\n",
    "\n",
    "#### WRITE YOUR CODE HERE ####\n",
    "\n",
    "# Create HRIRWriter object, set_list_view_as_source_pos should be True\n",
    "hrir_writer = HRIRWriter(new_hrir_set)\n",
    "\n",
    "# Save to new_sofa_path\n",
    "hrir_writer.write_to_file(new_sofa_path)"
   ]
  },
  {
   "cell_type": "markdown",
   "id": "10",
   "metadata": {},
   "source": [
    "### Part 6\n",
    "\n",
    "Test if SOFA file saving worked properly. Plot an HRIR from the original dataset and the closest HRIR from the new dataset."
   ]
  },
  {
   "cell_type": "code",
   "execution_count": null,
   "id": "11",
   "metadata": {},
   "outputs": [],
   "source": [
    "# Create HRIRReader object and plot an HRIR\n",
    "new_hrir_reader = HRIRReader(new_sofa_path)\n",
    "\n",
    "# Plot HRIRs for sanity check\n",
    "og_ir = hrir_reader.get_ir_corresponding_to_listener_view(np.asarray([[-90, 0, 0]])).squeeze()\n",
    "new_ir = new_hrir_reader.get_ir_corresponding_to_listener_view(np.asarray([[-90, 0, 0]])).squeeze()\n",
    "plt.figure()\n",
    "plt.plot(og_ir.T)\n",
    "plt.plot(new_ir.T)\n",
    "plt.show()"
   ]
  }
 ],
 "metadata": {
  "kernelspec": {
   "display_name": "Python 3 (ipykernel)",
   "language": "python",
   "name": "python3"
  },
  "language_info": {
   "codemirror_mode": {
    "name": "ipython",
    "version": 3
   },
   "file_extension": ".py",
   "mimetype": "text/x-python",
   "name": "python",
   "nbconvert_exporter": "python",
   "pygments_lexer": "ipython3",
   "version": "3.10.18"
  }
 },
 "nbformat": 4,
 "nbformat_minor": 5
}
