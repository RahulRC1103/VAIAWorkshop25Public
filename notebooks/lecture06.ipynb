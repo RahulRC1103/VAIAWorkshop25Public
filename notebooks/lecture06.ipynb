{
 "cells": [
  {
   "cell_type": "markdown",
   "id": "27934ce4-7938-4fe4-b5fa-5cf55bf81aa4",
   "metadata": {},
   "source": [
    "Virtual Acoustics and Immersive Audio Workshop - CCRMA Stanford University  \n",
    "28.07.25 - Orchisama Das, Gloria Dal Santo\n",
    "  \n",
    "### L06: Binaural rendering\n",
    "\n",
    "In this assignment we will \n",
    "- Analyze a given HRIR dataset in SOFA format\n",
    "- Interpolate the HRIRs to a denser grid and save it in SOFA format\n",
    "- Listen and compare both datasets in Reaper with SPARTA's binauralizer plugin with head tracking."
   ]
  },
  {
   "cell_type": "code",
   "execution_count": null,
   "id": "4e132a64-6825-468c-9c72-952a6734f8df",
   "metadata": {},
   "outputs": [],
   "source": [
    "import numpy as np\n",
    "from pathlib import Path\n",
    "from loguru import logger\n",
    "import matplotlib.pyplot as plt\n",
    "from spatial_audio.sofa_parser import HRIRReader, HRIRWriter\n",
    "from spatial_audio.hrtf import HRIRInterpolator, HRIRSet\n",
    "from spatial_audio.plot import plot_points_on_sphere\n",
    "from utils import unpack_coordinates, cart2sph"
   ]
  },
  {
   "cell_type": "markdown",
   "id": "fc6bf82c-d4a4-4683-9397-370f89bfe80f",
   "metadata": {},
   "source": [
    "## Part 1\n",
    "- Read the HRTF dataset with `HRIRReader`\n",
    "- Plot the azimuth and elevation angles at which the HRIRs were measured on a spherical grid with the `spatial_audio.plot.plot_points_on_sphere()` function.\n",
    "- Note the grid spacing between azimuth angles ($\\theta_\\text{grid}$) and elevation angles ($\\phi_\\text{grid}$). Verify that the grid is equiangular (same spacing between all azimuth and elevation angles)."
   ]
  },
  {
   "cell_type": "code",
   "execution_count": null,
   "id": "ea66dd16-cb70-4081-ab26-efdba688bbbf",
   "metadata": {},
   "outputs": [],
   "source": [
    "# Path to HRIR dataset\n",
    "sofa_path = Path('../data/Week 2/hrtf/CIPIC_subject_119_equiangular_grid.sofa').resolve()\n",
    "\n",
    "#### WRITE YOUR CODE HERE ####\n",
    "\n",
    "# Create HRIRReader object\n",
    "\n",
    "# Read azimuth and elevation angles from the dataset\n",
    "\n",
    "# Plot the azimuth and elevation angles on a sphere by calling plot_points_on_sphere\n"
   ]
  },
  {
   "cell_type": "markdown",
   "id": "1e53336c-236c-4285-a633-7e4e39267610",
   "metadata": {},
   "source": [
    "### Part 2\n",
    "\n",
    "See `src/spatial_audio/hrtf.py`. Create an `HRIRSet` dataclass from the dataset you have just read."
   ]
  },
  {
   "cell_type": "code",
   "execution_count": null,
   "id": "7c6a138a-1995-46a1-b61d-272973ad3612",
   "metadata": {},
   "outputs": [],
   "source": [
    "hrir_data = HRIRSet(hrir_reader.fs, hrir_reader.num_meas, hrir_reader.ir_length, hrir_reader.ir_data,\n",
    "                    hrir_reader.listener_view, hrir_reader.listener_view_type, source_view=hrir_reader.get_source_view(\"spherical\"))"
   ]
  },
  {
   "cell_type": "markdown",
   "id": "2c7b3b4f-59a7-4bed-b7bd-508936559c24",
   "metadata": {},
   "source": [
    "### Part 3\n",
    "\n",
    "- Complete the function `bilinear_interpolation(new_az_res: float, new_el_res: float)` in the `HRIRInterpolator` class to interpolate the HRIRs on the new grid.\n",
    "- The new grid should have a spacing of $2^\\circ$ between azimuth angles and $5^\\circ$ between elevation angles. This should return an object of type `HRIRSet`. \n",
    "\n",
    "Recall the formula for the bilinear interpolation of HRIRs,\n",
    "\n",
    "\\begin{aligned}\n",
    "\\hat{h}(k) &= \\left(1-c_\\theta\\right)\\left(1-c_\\phi\\right) h_a(k)+c_\\theta\\left(1-c_\\phi\\right) h_b(k)+ \\\\\n",
    "&+c_\\theta c_\\phi h_c(k)+\\left(1-c_\\theta\\right) c_\\phi h_d(k), \\\\\n",
    "c_\\theta &= \\frac{\\theta \\ \\text{mod} \\ \\theta_\\text{grid}}{\\theta_\\text{grid}}, \\quad c_\\phi = \\frac{\\phi \\ \\text{mod} \\ \\phi_\\text{grid}}{\\phi_\\text{grid}}\n",
    "\\end{aligned}\n",
    "where $h_a, h_b, h_c, h_d$ are the adjacent HRIRs to a new angle-pair $(\\theta, \\phi)$. Hint: the grid of HRIRs provided has uniform spacing between all azimuth and elevation angles."
   ]
  },
  {
   "cell_type": "code",
   "execution_count": null,
   "id": "cea8b1f8-66fe-43de-a91e-dcb404abe71e",
   "metadata": {},
   "outputs": [],
   "source": [
    "#### WRITE YOUR CODE HERE ####\n",
    "\n",
    "# Create HRIRInterpolator object\n",
    "\n",
    "# Call bilinear_interpolation function with azimuth and elevation grid spacing angles\n"
   ]
  },
  {
   "cell_type": "markdown",
   "id": "b998464c-7439-4263-938b-eaeea329aa64",
   "metadata": {},
   "source": [
    "### Part 5\n",
    "\n",
    "Save the new densely sampled dataset to SOFA format using `HRIRWriter`."
   ]
  },
  {
   "cell_type": "code",
   "execution_count": null,
   "id": "b8f9f080-7bac-4b88-85bb-28ee838482c2",
   "metadata": {},
   "outputs": [],
   "source": [
    "new_sofa_path =  Path('../data/Week 2/hrtf/densely_sampled_CIPIC_subject_119.sofa').resolve()\n",
    "\n",
    "#### WRITE YOUR CODE HERE ####\n",
    "\n",
    "# Create HRIRWriter object, set_list_view_as_source_pos should be True\n",
    "\n",
    "# Save to new_sofa_path\n"
   ]
  },
  {
   "cell_type": "markdown",
   "id": "058a45f8-2516-4f6e-b070-6f59540cf2d5",
   "metadata": {},
   "source": [
    "### Part 6\n",
    "\n",
    "Test if SOFA file saving worked properly. Plot an HRIR from the original dataset and the closest HRIR from the new dataset."
   ]
  },
  {
   "cell_type": "code",
   "execution_count": null,
   "id": "ca0a152d-28e3-457c-b114-18e0b1ac2d9e",
   "metadata": {},
   "outputs": [],
   "source": [
    "# Create HRIRReader object and plot an HRIR\n",
    "new_hrir_reader = HRIRReader(new_sofa_path)\n",
    "\n",
    "# Plot HRIRs for sanity check"
   ]
  }
 ],
 "metadata": {
  "kernelspec": {
   "display_name": "Python 3 (ipykernel)",
   "language": "python",
   "name": "python3"
  },
  "language_info": {
   "codemirror_mode": {
    "name": "ipython",
    "version": 3
   },
   "file_extension": ".py",
   "mimetype": "text/x-python",
   "name": "python",
   "nbconvert_exporter": "python",
   "pygments_lexer": "ipython3",
   "version": "3.10.18"
  }
 },
 "nbformat": 4,
 "nbformat_minor": 5
}
