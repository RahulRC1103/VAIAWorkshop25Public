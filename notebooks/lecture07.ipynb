{
 "cells": [
  {
   "cell_type": "markdown",
   "id": "8eff25ec-e80c-4e3e-b7dc-bbc8dfdde690",
   "metadata": {},
   "source": [
    "Virtual Acoustics and Immersive Audio Workshop - CCRMA Stanford University  \n",
    "28.07.25 - Orchisama Das, Gloria Dal Santo\n",
    "  \n",
    "### L07: Ambisonics-encoded RIRs\n",
    "\n",
    "In this assignment we will \n",
    "- Convert A-format FOA recordings to B-format.\n",
    "- Visualise spherical harmomic basis functions.\n",
    "- Save B-format SRIRs in a SOFA file for multiple listener positions.\n",
    "- Listen to auralization with saved SRIRs either binaurally or out-loud in the 22.1 setup in CCRMA's studio E."
   ]
  },
  {
   "cell_type": "code",
   "execution_count": null,
   "id": "c48b6ce0-070d-4a44-9b25-a18b32623dc2",
   "metadata": {},
   "outputs": [],
   "source": [
    "import numpy as np\n",
    "import soundfile as sf\n",
    "import sofar\n",
    "\n",
    "from pathlib import Path\n",
    "import matplotlib.pyplot as plt\n",
    "from loguru import logger\n",
    "from utils import rir_from_sweep, find_onset, ms_to_samps\n",
    "from spatial_audio.spatial import convert_A2B_format_tetramic\n",
    "from spatial_audio.plot import plot_spherical_harmonics\n",
    "from spatial_audio.sofa_parser import SRIRWriter"
   ]
  },
  {
   "cell_type": "markdown",
   "id": "694ee07d-3813-4a12-9423-937780fdf62f",
   "metadata": {},
   "source": [
    "### Part 1\n",
    "- Complete the multichannel deconvolution function `utils.rir_from_sweep()`\n",
    "- Given the sine sweeps measured in the racquetball court at receiver locations, A,D,G,H,J,K for source location I, C, B and the dry sweep, deconvolve them to get A-format RIRs. The measured RIRs are in the GDrive folder `Assignments/Data/Week 2/shoe-box-synth-comp/ambi_rec/`. "
   ]
  },
  {
   "cell_type": "code",
   "execution_count": null,
   "id": "6213d4cf-0870-4f2f-8a66-69ffc824535c",
   "metadata": {},
   "outputs": [],
   "source": [
    "# Read DrySweep\n",
    "audio_path = Path('../data/Week 2/shoe-box-synth-comp/ambi_rec').resolve()\n",
    "dry_sweep, fs = sf.read(f'{audio_path}/DrySweep.wav')\n",
    "\n",
    "# Define source and receiver names\n",
    "src_name = ['I', 'C', 'B']\n",
    "rec_name = ['A','D','G','H','K']\n",
    "\n",
    "# Loop through source and receivers to get all the RIRs\n",
    "rirs_Aformat = {}\n",
    "for k in range(len(src_name)):\n",
    "    logger.info(f\"Calculating RIRs for source position {src_name[k]}\")\n",
    "    for i in range(len(rec_name)):\n",
    "        # Read measured sweeps\n",
    "        meas_sweep, fs = sf.read(f'{audio_path}/Speaker_src={src_name[k]}_rec={rec_name[i]}.wav')\n",
    "        \n",
    "        # Call rir_from_sweep to get A-format RIRs for current receiver and source\n",
    "        rirs_Aformat[src_name[k]+rec_name[i]] = rir_from_sweep(meas_sweep, dry_sweep, fs)\n",
    "        logger.info(f\"Done calculating RIRs for receiver position {rec_name[i]}\")\n",
    "        \n",
    "        # Plot the A format RIRs for current source and listener positions\n",
    "        plt.figure()\n",
    "        plt.plot(rirs_Aformat[src_name[k]+rec_name[i]])\n",
    "        plt.title(f'A-format RIRs, Source = {src_name[k]}, receiver = {rec_name[i]}')"
   ]
  },
  {
   "cell_type": "markdown",
   "id": "aef229c9-429f-4bcb-8252-7587bc938d20",
   "metadata": {},
   "source": [
    "### Part 2\n",
    "\n",
    "- Convert the A-format recordings to B-format using SN3D normalization and ACN channel ordering by completing the function `convert_A2B_format_tetramic()` in `spatial_audio.spatial.py`.\n",
    "- Recall that we want to convert from A-format RIRs, $\\mathbf{d}(t) = \\begin{bmatrix}d_1(t) & d_2(t) & d_3(t) & d_4(t) \\end{bmatrix}^\\top$ to B-format RIRs, $\\mathbf{h}(t) = \\begin{bmatrix}W(t) & Y(t) & Z(t) & X(t) \\end{bmatrix}^\\top$, using the spherical harmonics transformation matrix $\\mathbf{Y}$. The pseudo-inverse of $\\mathbf{Y}$ is given by $\\mathbf{Y}^\\dagger$.\n",
    "\\begin{equation}\n",
    "    \\begin{aligned}\n",
    "    \\mathbf{h}(t) &= \\mathbf{Y}^\\dagger \\mathbf{d}(t) \\\\\n",
    "    \\mathbf{Y} &= \\begin{bmatrix}Y_{0,0}(\\boldsymbol{\\theta, \\phi}) & Y_{1,-1}(\\boldsymbol{\\theta, \\phi}) & Y_{1,0}(\\boldsymbol{\\theta, \\phi}) & Y_{1,1}(\\boldsymbol{\\theta, \\phi}) \\end{bmatrix}, \\\\\n",
    "    Y_{0,0}(\\boldsymbol{\\theta, \\phi}) & =\\frac{1}{\\sqrt{4 \\pi}} \\\\\n",
    "    Y_{1,-1}(\\boldsymbol{\\theta, \\phi}) & =\\sqrt{\\frac{3}{4 \\pi}} \\sin \\boldsymbol{\\theta} \\sin \\boldsymbol{\\phi} \\\\\n",
    "    Y_{1,0}(\\boldsymbol{\\theta, \\phi}) & =\\sqrt{\\frac{3}{4 \\pi}} \\cos \\boldsymbol{\\theta} \\\\\n",
    "    Y_{1,1}(\\boldsymbol{\\theta, \\phi}) & =\\sqrt{\\frac{3}{4 \\pi}} \\sin \\boldsymbol{\\theta} \\cos \\boldsymbol{\\phi} \\\\\n",
    "    \\boldsymbol{\\theta}, \\boldsymbol{\\phi} &\\in \\mathbb{R}^4, \\ \\theta_i = \\arccos(z_i), \\ \\phi_i = \\arctan(y_i, x_i) \\\\\n",
    "    \\mathbf{e}_i &= \\frac{1}{\\sqrt{3}}\\begin{bmatrix} x_i & y_i & z_i\\end{bmatrix}^\\top.\n",
    "    \\end{aligned}\n",
    "    \\end{equation}\n",
    "    Here, $\\mathbf{e}_i$ contains the direction vectors for each of the four capsules of the tetramic (this has been provided in the code). Hint: the calculations can be greatly simplified if you calculate $\\theta_i, \\phi_i$ from $\\mathbf{e}_i$ and plug it in $\\mathbf{Y}$."
   ]
  },
  {
   "cell_type": "code",
   "execution_count": null,
   "id": "8a1f14f4-1df9-4577-bef2-f6abc9722e0a",
   "metadata": {},
   "outputs": [],
   "source": [
    "rirs_Bformat = {}\n",
    "rirs_onset = {}\n",
    "time = np.linspace(0, (rirs_Aformat['CA'].shape[0]-1)/fs, rirs_Aformat['CA'].shape[0])\n",
    "\n",
    "for k in range(len(src_name)):\n",
    "    for i in range(len(rec_name)):\n",
    "        # Get B-format RIRs by calling convert_A2B_format_from_tetramic()\n",
    "        rirs_Bformat[src_name[k] + rec_name[i]] = convert_A2B_format_tetramic(rirs_Aformat[src_name[k] + rec_name[i]])\n",
    "        \n",
    "        # Get onsets for each RIR by calling find_onset\n",
    "        rirs_onset[src_name[k] + rec_name[i]] = find_onset(rirs_Bformat[src_name[k] + rec_name[i]])\n",
    "        logger.info(f\"Done calculating RIRs for receiver position {rec_name[i]}\")\n",
    "\n",
    "        # Plot B-format RIRs for current source and listener positions\n",
    "        plt.figure()\n",
    "        plt.plot(time, rirs_Bformat[src_name[k] + rec_name[i]])\n",
    "        plt.title(f'B-format RIRs, Source = {src_name[k]}, receiver = {rec_name[i]}')\n",
    "        plt.legend(['W','Y','Z','X'])"
   ]
  },
  {
   "cell_type": "markdown",
   "id": "a2ff3094-617b-48a2-b4bb-2e026bd0ba32",
   "metadata": {},
   "source": [
    "### Part 3\n",
    "\n",
    "Using `spatial_audio.plot.plot_spherical_harmonics`, visualise spherical harmonic functions up to order 3."
   ]
  },
  {
   "cell_type": "code",
   "execution_count": null,
   "id": "f95f4353-9cd9-42e2-9edc-d00284f1a13a",
   "metadata": {},
   "outputs": [],
   "source": [
    "### WRITE YOUR CODE HERE ###"
   ]
  },
  {
   "cell_type": "markdown",
   "id": "02950a26-f3fb-47f3-95ce-adfbd4115816",
   "metadata": {},
   "source": [
    "### Part 4\n",
    "Save the B-format recordings as wav files with the convention `Bformat_Speaker_src={src_pos_name}_rec={rec_pos_name}.wav`. The files can be saved in the folder `../data/Week 2/shoe-box-synth-comp/ambi_rec/`."
   ]
  },
  {
   "cell_type": "code",
   "execution_count": null,
   "id": "a7b45b2a-e62f-4cac-8b73-1cda4fcbc19e",
   "metadata": {},
   "outputs": [],
   "source": [
    "# Trim the RIRs to be 10s long and normalize them to be within +/- 1\n",
    "start_trim_len_samps = ms_to_samps(10000, fs)\n",
    "end_trim_len_samps = ms_to_samps(5000, fs)\n",
    "rirs_Bformat_array = np.stack(list(rirs_Bformat.values()))\n",
    "rirs_Bformat_array = rirs_Bformat_array[:,start_trim_len_samps:-end_trim_len_samps, :]\n",
    "norm_factor = np.max(np.abs(rirs_Bformat_array), axis=1, keepdims=True)\n",
    "rirs_Bformat_norm = rirs_Bformat_array / norm_factor\n",
    "\n",
    "### WRITE YOUR CODE HERE ###\n",
    "\n",
    "# Save wave files"
   ]
  },
  {
   "cell_type": "markdown",
   "id": "dc98277a-08a6-4f6c-a218-7156ad4aaa31",
   "metadata": {},
   "source": [
    "### Part 5\n",
    "Save the B-format normalized SRIRs for each source in a different SOFA file of convention `SingleRoomSRIR` file using the `SRIRWriter` class."
   ]
  },
  {
   "cell_type": "code",
   "execution_count": null,
   "id": "0cd5a4a2-c765-4c6f-b77d-dd7cd51c2e70",
   "metadata": {},
   "outputs": [],
   "source": [
    "# Length of the RIRs we are saving in SOFA format\n",
    "ir_length = rirs_Bformat['CA'].shape[0] - end_trim_len_samps - start_trim_len_samps\n",
    "\n",
    "# SH order\n",
    "ambi_order = 1\n",
    "\n",
    "# Sampling rate\n",
    "sample_rate = fs\n",
    "\n",
    "# Create source and receiver position arrays (x is front, y is left)\n",
    "src_pos = np.asarray([[5.3, 6.7, 1.5], [3.048, 9.14, 1.5], [3.048, 6.1, 1.5]])\n",
    "rec_pos = np.asarray([[1.524, 3.05, 1.5], [2.032, 8.13, 1.5], [1, 10.5, 1.5], [2.7, 4.5, 1.5], [3.048, 1, 1.5]])\n",
    "\n",
    "# Number of receivers\n",
    "num_rec = rec_pos.shape[0]\n",
    "\n",
    "# Room dimensions (optional)\n",
    "room_dims = np.array([6.096, 12.19, 6.096])\n",
    "\n",
    "# ensure B-format RIR array has the right dimensions - (number of measurements, number of channels, length of RIRs)\n",
    "rirs_Bformat_norm = rirs_Bformat_norm.transpose(0, -1, 1)\n",
    "rirs_onset_array = np.stack(list(rirs_onset.values()))"
   ]
  },
  {
   "cell_type": "code",
   "execution_count": null,
   "id": "b84ea299-69d5-4126-8be6-5557cb582a04",
   "metadata": {},
   "outputs": [],
   "source": [
    "### WRITE YOUR CODE HERE ###\n",
    "\n",
    "for i in range(len(src_name)):\n",
    "    # current sofa path\n",
    "    sofa_path = Path(f'../data/Week 2/shoe-box-synth-comp/sofa_files/racquetball_src={src_name[i]}_srirs.sofa').resolve()\n",
    "\n",
    "    # create SRIRWriter object\n",
    "    \n",
    "    # set source positions\n",
    "    \n",
    "    # set listener positions\n",
    "    \n",
    "    # set impulse response data\n",
    "    \n",
    "    # optional - set onset delays\n",
    "    \n",
    "    # save sofa to file\n",
    "        "
   ]
  },
  {
   "cell_type": "code",
   "execution_count": null,
   "id": "a50ee529-a8af-416c-94ed-4442e0558793",
   "metadata": {},
   "outputs": [],
   "source": [
    "# OPTIONAL - Read SOFA file to ensure everything was saved properly\n",
    "\n",
    "sofa_reader = sofar.read_sofa(sofa_path)\n",
    "sofa_reader.list_dimensions"
   ]
  }
 ],
 "metadata": {
  "kernelspec": {
   "display_name": "Python 3 (ipykernel)",
   "language": "python",
   "name": "python3"
  },
  "language_info": {
   "codemirror_mode": {
    "name": "ipython",
    "version": 3
   },
   "file_extension": ".py",
   "mimetype": "text/x-python",
   "name": "python",
   "nbconvert_exporter": "python",
   "pygments_lexer": "ipython3",
   "version": "3.10.18"
  }
 },
 "nbformat": 4,
 "nbformat_minor": 5
}
